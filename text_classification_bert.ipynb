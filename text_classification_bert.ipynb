{
  "nbformat": 4,
  "nbformat_minor": 0,
  "metadata": {
    "colab": {
      "name": "classification_bert_new.ipynb",
      "provenance": [],
      "collapsed_sections": []
    },
    "kernelspec": {
      "display_name": "Python 3",
      "name": "python3"
    },
    "widgets": {
      "application/vnd.jupyter.widget-state+json": {
        "4f836b114a0147be801be93f9188fd75": {
          "model_module": "@jupyter-widgets/controls",
          "model_name": "HBoxModel",
          "state": {
            "_view_name": "HBoxView",
            "_dom_classes": [],
            "_model_name": "HBoxModel",
            "_view_module": "@jupyter-widgets/controls",
            "_model_module_version": "1.5.0",
            "_view_count": null,
            "_view_module_version": "1.5.0",
            "box_style": "",
            "layout": "IPY_MODEL_878eff1ab6fd487bad32c292385c189d",
            "_model_module": "@jupyter-widgets/controls",
            "children": [
              "IPY_MODEL_cec3d74f550441c6a785430e0c33c277",
              "IPY_MODEL_7a24e0583557417e80c78f7a985f5777"
            ]
          }
        },
        "878eff1ab6fd487bad32c292385c189d": {
          "model_module": "@jupyter-widgets/base",
          "model_name": "LayoutModel",
          "state": {
            "_view_name": "LayoutView",
            "grid_template_rows": null,
            "right": null,
            "justify_content": null,
            "_view_module": "@jupyter-widgets/base",
            "overflow": null,
            "_model_module_version": "1.2.0",
            "_view_count": null,
            "flex_flow": null,
            "width": null,
            "min_width": null,
            "border": null,
            "align_items": null,
            "bottom": null,
            "_model_module": "@jupyter-widgets/base",
            "top": null,
            "grid_column": null,
            "overflow_y": null,
            "overflow_x": null,
            "grid_auto_flow": null,
            "grid_area": null,
            "grid_template_columns": null,
            "flex": null,
            "_model_name": "LayoutModel",
            "justify_items": null,
            "grid_row": null,
            "max_height": null,
            "align_content": null,
            "visibility": null,
            "align_self": null,
            "height": null,
            "min_height": null,
            "padding": null,
            "grid_auto_rows": null,
            "grid_gap": null,
            "max_width": null,
            "order": null,
            "_view_module_version": "1.2.0",
            "grid_template_areas": null,
            "object_position": null,
            "object_fit": null,
            "grid_auto_columns": null,
            "margin": null,
            "display": null,
            "left": null
          }
        },
        "cec3d74f550441c6a785430e0c33c277": {
          "model_module": "@jupyter-widgets/controls",
          "model_name": "FloatProgressModel",
          "state": {
            "_view_name": "ProgressView",
            "style": "IPY_MODEL_4e8d64cbffc4438d8f4e71b096bbe869",
            "_dom_classes": [],
            "description": "Downloading: 100%",
            "_model_name": "FloatProgressModel",
            "bar_style": "success",
            "max": 109540,
            "_view_module": "@jupyter-widgets/controls",
            "_model_module_version": "1.5.0",
            "value": 109540,
            "_view_count": null,
            "_view_module_version": "1.5.0",
            "orientation": "horizontal",
            "min": 0,
            "description_tooltip": null,
            "_model_module": "@jupyter-widgets/controls",
            "layout": "IPY_MODEL_f9d7e6324b1c4f2481f7f7ba126acd4f"
          }
        },
        "7a24e0583557417e80c78f7a985f5777": {
          "model_module": "@jupyter-widgets/controls",
          "model_name": "HTMLModel",
          "state": {
            "_view_name": "HTMLView",
            "style": "IPY_MODEL_ee92e130ea104eb1833243064ba41b08",
            "_dom_classes": [],
            "description": "",
            "_model_name": "HTMLModel",
            "placeholder": "​",
            "_view_module": "@jupyter-widgets/controls",
            "_model_module_version": "1.5.0",
            "value": " 110k/110k [00:00&lt;00:00, 2.22MB/s]",
            "_view_count": null,
            "_view_module_version": "1.5.0",
            "description_tooltip": null,
            "_model_module": "@jupyter-widgets/controls",
            "layout": "IPY_MODEL_e46f0476fdfc48a7802c001926367f5f"
          }
        },
        "4e8d64cbffc4438d8f4e71b096bbe869": {
          "model_module": "@jupyter-widgets/controls",
          "model_name": "ProgressStyleModel",
          "state": {
            "_view_name": "StyleView",
            "_model_name": "ProgressStyleModel",
            "description_width": "initial",
            "_view_module": "@jupyter-widgets/base",
            "_model_module_version": "1.5.0",
            "_view_count": null,
            "_view_module_version": "1.2.0",
            "bar_color": null,
            "_model_module": "@jupyter-widgets/controls"
          }
        },
        "f9d7e6324b1c4f2481f7f7ba126acd4f": {
          "model_module": "@jupyter-widgets/base",
          "model_name": "LayoutModel",
          "state": {
            "_view_name": "LayoutView",
            "grid_template_rows": null,
            "right": null,
            "justify_content": null,
            "_view_module": "@jupyter-widgets/base",
            "overflow": null,
            "_model_module_version": "1.2.0",
            "_view_count": null,
            "flex_flow": null,
            "width": null,
            "min_width": null,
            "border": null,
            "align_items": null,
            "bottom": null,
            "_model_module": "@jupyter-widgets/base",
            "top": null,
            "grid_column": null,
            "overflow_y": null,
            "overflow_x": null,
            "grid_auto_flow": null,
            "grid_area": null,
            "grid_template_columns": null,
            "flex": null,
            "_model_name": "LayoutModel",
            "justify_items": null,
            "grid_row": null,
            "max_height": null,
            "align_content": null,
            "visibility": null,
            "align_self": null,
            "height": null,
            "min_height": null,
            "padding": null,
            "grid_auto_rows": null,
            "grid_gap": null,
            "max_width": null,
            "order": null,
            "_view_module_version": "1.2.0",
            "grid_template_areas": null,
            "object_position": null,
            "object_fit": null,
            "grid_auto_columns": null,
            "margin": null,
            "display": null,
            "left": null
          }
        },
        "ee92e130ea104eb1833243064ba41b08": {
          "model_module": "@jupyter-widgets/controls",
          "model_name": "DescriptionStyleModel",
          "state": {
            "_view_name": "StyleView",
            "_model_name": "DescriptionStyleModel",
            "description_width": "",
            "_view_module": "@jupyter-widgets/base",
            "_model_module_version": "1.5.0",
            "_view_count": null,
            "_view_module_version": "1.2.0",
            "_model_module": "@jupyter-widgets/controls"
          }
        },
        "e46f0476fdfc48a7802c001926367f5f": {
          "model_module": "@jupyter-widgets/base",
          "model_name": "LayoutModel",
          "state": {
            "_view_name": "LayoutView",
            "grid_template_rows": null,
            "right": null,
            "justify_content": null,
            "_view_module": "@jupyter-widgets/base",
            "overflow": null,
            "_model_module_version": "1.2.0",
            "_view_count": null,
            "flex_flow": null,
            "width": null,
            "min_width": null,
            "border": null,
            "align_items": null,
            "bottom": null,
            "_model_module": "@jupyter-widgets/base",
            "top": null,
            "grid_column": null,
            "overflow_y": null,
            "overflow_x": null,
            "grid_auto_flow": null,
            "grid_area": null,
            "grid_template_columns": null,
            "flex": null,
            "_model_name": "LayoutModel",
            "justify_items": null,
            "grid_row": null,
            "max_height": null,
            "align_content": null,
            "visibility": null,
            "align_self": null,
            "height": null,
            "min_height": null,
            "padding": null,
            "grid_auto_rows": null,
            "grid_gap": null,
            "max_width": null,
            "order": null,
            "_view_module_version": "1.2.0",
            "grid_template_areas": null,
            "object_position": null,
            "object_fit": null,
            "grid_auto_columns": null,
            "margin": null,
            "display": null,
            "left": null
          }
        }
      }
    },
    "accelerator": "GPU"
  },
  "cells": [
    {
      "cell_type": "code",
      "metadata": {
        "colab": {
          "base_uri": "https://localhost:8080/"
        },
        "id": "KCI6pSeGKjAQ",
        "outputId": "ee52d92f-31e2-4677-8ccd-96738300f0ac"
      },
      "source": [
        "!pip install transformers"
      ],
      "execution_count": null,
      "outputs": [
        {
          "output_type": "stream",
          "text": [
            "Collecting transformers\n",
            "\u001b[?25l  Downloading https://files.pythonhosted.org/packages/50/0c/7d5950fcd80b029be0a8891727ba21e0cd27692c407c51261c3c921f6da3/transformers-4.1.1-py3-none-any.whl (1.5MB)\n",
            "\r\u001b[K     |▏                               | 10kB 24.4MB/s eta 0:00:01\r\u001b[K     |▍                               | 20kB 11.2MB/s eta 0:00:01\r\u001b[K     |▋                               | 30kB 9.9MB/s eta 0:00:01\r\u001b[K     |▉                               | 40kB 9.0MB/s eta 0:00:01\r\u001b[K     |█                               | 51kB 9.8MB/s eta 0:00:01\r\u001b[K     |█▎                              | 61kB 9.2MB/s eta 0:00:01\r\u001b[K     |█▌                              | 71kB 9.6MB/s eta 0:00:01\r\u001b[K     |█▊                              | 81kB 10.1MB/s eta 0:00:01\r\u001b[K     |██                              | 92kB 10.3MB/s eta 0:00:01\r\u001b[K     |██▏                             | 102kB 10.4MB/s eta 0:00:01\r\u001b[K     |██▍                             | 112kB 10.4MB/s eta 0:00:01\r\u001b[K     |██▋                             | 122kB 10.4MB/s eta 0:00:01\r\u001b[K     |██▉                             | 133kB 10.4MB/s eta 0:00:01\r\u001b[K     |███                             | 143kB 10.4MB/s eta 0:00:01\r\u001b[K     |███▎                            | 153kB 10.4MB/s eta 0:00:01\r\u001b[K     |███▌                            | 163kB 10.4MB/s eta 0:00:01\r\u001b[K     |███▊                            | 174kB 10.4MB/s eta 0:00:01\r\u001b[K     |████                            | 184kB 10.4MB/s eta 0:00:01\r\u001b[K     |████▏                           | 194kB 10.4MB/s eta 0:00:01\r\u001b[K     |████▎                           | 204kB 10.4MB/s eta 0:00:01\r\u001b[K     |████▌                           | 215kB 10.4MB/s eta 0:00:01\r\u001b[K     |████▊                           | 225kB 10.4MB/s eta 0:00:01\r\u001b[K     |█████                           | 235kB 10.4MB/s eta 0:00:01\r\u001b[K     |█████▏                          | 245kB 10.4MB/s eta 0:00:01\r\u001b[K     |█████▍                          | 256kB 10.4MB/s eta 0:00:01\r\u001b[K     |█████▋                          | 266kB 10.4MB/s eta 0:00:01\r\u001b[K     |█████▉                          | 276kB 10.4MB/s eta 0:00:01\r\u001b[K     |██████                          | 286kB 10.4MB/s eta 0:00:01\r\u001b[K     |██████▎                         | 296kB 10.4MB/s eta 0:00:01\r\u001b[K     |██████▌                         | 307kB 10.4MB/s eta 0:00:01\r\u001b[K     |██████▊                         | 317kB 10.4MB/s eta 0:00:01\r\u001b[K     |███████                         | 327kB 10.4MB/s eta 0:00:01\r\u001b[K     |███████▏                        | 337kB 10.4MB/s eta 0:00:01\r\u001b[K     |███████▍                        | 348kB 10.4MB/s eta 0:00:01\r\u001b[K     |███████▋                        | 358kB 10.4MB/s eta 0:00:01\r\u001b[K     |███████▉                        | 368kB 10.4MB/s eta 0:00:01\r\u001b[K     |████████                        | 378kB 10.4MB/s eta 0:00:01\r\u001b[K     |████████▎                       | 389kB 10.4MB/s eta 0:00:01\r\u001b[K     |████████▌                       | 399kB 10.4MB/s eta 0:00:01\r\u001b[K     |████████▋                       | 409kB 10.4MB/s eta 0:00:01\r\u001b[K     |████████▉                       | 419kB 10.4MB/s eta 0:00:01\r\u001b[K     |█████████                       | 430kB 10.4MB/s eta 0:00:01\r\u001b[K     |█████████▎                      | 440kB 10.4MB/s eta 0:00:01\r\u001b[K     |█████████▌                      | 450kB 10.4MB/s eta 0:00:01\r\u001b[K     |█████████▊                      | 460kB 10.4MB/s eta 0:00:01\r\u001b[K     |██████████                      | 471kB 10.4MB/s eta 0:00:01\r\u001b[K     |██████████▏                     | 481kB 10.4MB/s eta 0:00:01\r\u001b[K     |██████████▍                     | 491kB 10.4MB/s eta 0:00:01\r\u001b[K     |██████████▋                     | 501kB 10.4MB/s eta 0:00:01\r\u001b[K     |██████████▉                     | 512kB 10.4MB/s eta 0:00:01\r\u001b[K     |███████████                     | 522kB 10.4MB/s eta 0:00:01\r\u001b[K     |███████████▎                    | 532kB 10.4MB/s eta 0:00:01\r\u001b[K     |███████████▌                    | 542kB 10.4MB/s eta 0:00:01\r\u001b[K     |███████████▊                    | 552kB 10.4MB/s eta 0:00:01\r\u001b[K     |████████████                    | 563kB 10.4MB/s eta 0:00:01\r\u001b[K     |████████████▏                   | 573kB 10.4MB/s eta 0:00:01\r\u001b[K     |████████████▍                   | 583kB 10.4MB/s eta 0:00:01\r\u001b[K     |████████████▋                   | 593kB 10.4MB/s eta 0:00:01\r\u001b[K     |████████████▉                   | 604kB 10.4MB/s eta 0:00:01\r\u001b[K     |█████████████                   | 614kB 10.4MB/s eta 0:00:01\r\u001b[K     |█████████████▏                  | 624kB 10.4MB/s eta 0:00:01\r\u001b[K     |█████████████▍                  | 634kB 10.4MB/s eta 0:00:01\r\u001b[K     |█████████████▋                  | 645kB 10.4MB/s eta 0:00:01\r\u001b[K     |█████████████▉                  | 655kB 10.4MB/s eta 0:00:01\r\u001b[K     |██████████████                  | 665kB 10.4MB/s eta 0:00:01\r\u001b[K     |██████████████▎                 | 675kB 10.4MB/s eta 0:00:01\r\u001b[K     |██████████████▌                 | 686kB 10.4MB/s eta 0:00:01\r\u001b[K     |██████████████▊                 | 696kB 10.4MB/s eta 0:00:01\r\u001b[K     |███████████████                 | 706kB 10.4MB/s eta 0:00:01\r\u001b[K     |███████████████▏                | 716kB 10.4MB/s eta 0:00:01\r\u001b[K     |███████████████▍                | 727kB 10.4MB/s eta 0:00:01\r\u001b[K     |███████████████▋                | 737kB 10.4MB/s eta 0:00:01\r\u001b[K     |███████████████▉                | 747kB 10.4MB/s eta 0:00:01\r\u001b[K     |████████████████                | 757kB 10.4MB/s eta 0:00:01\r\u001b[K     |████████████████▎               | 768kB 10.4MB/s eta 0:00:01\r\u001b[K     |████████████████▌               | 778kB 10.4MB/s eta 0:00:01\r\u001b[K     |████████████████▊               | 788kB 10.4MB/s eta 0:00:01\r\u001b[K     |█████████████████               | 798kB 10.4MB/s eta 0:00:01\r\u001b[K     |█████████████████               | 808kB 10.4MB/s eta 0:00:01\r\u001b[K     |█████████████████▎              | 819kB 10.4MB/s eta 0:00:01\r\u001b[K     |█████████████████▌              | 829kB 10.4MB/s eta 0:00:01\r\u001b[K     |█████████████████▊              | 839kB 10.4MB/s eta 0:00:01\r\u001b[K     |██████████████████              | 849kB 10.4MB/s eta 0:00:01\r\u001b[K     |██████████████████▏             | 860kB 10.4MB/s eta 0:00:01\r\u001b[K     |██████████████████▍             | 870kB 10.4MB/s eta 0:00:01\r\u001b[K     |██████████████████▋             | 880kB 10.4MB/s eta 0:00:01\r\u001b[K     |██████████████████▉             | 890kB 10.4MB/s eta 0:00:01\r\u001b[K     |███████████████████             | 901kB 10.4MB/s eta 0:00:01\r\u001b[K     |███████████████████▎            | 911kB 10.4MB/s eta 0:00:01\r\u001b[K     |███████████████████▌            | 921kB 10.4MB/s eta 0:00:01\r\u001b[K     |███████████████████▊            | 931kB 10.4MB/s eta 0:00:01\r\u001b[K     |████████████████████            | 942kB 10.4MB/s eta 0:00:01\r\u001b[K     |████████████████████▏           | 952kB 10.4MB/s eta 0:00:01\r\u001b[K     |████████████████████▍           | 962kB 10.4MB/s eta 0:00:01\r\u001b[K     |████████████████████▋           | 972kB 10.4MB/s eta 0:00:01\r\u001b[K     |████████████████████▉           | 983kB 10.4MB/s eta 0:00:01\r\u001b[K     |█████████████████████           | 993kB 10.4MB/s eta 0:00:01\r\u001b[K     |█████████████████████▎          | 1.0MB 10.4MB/s eta 0:00:01\r\u001b[K     |█████████████████████▍          | 1.0MB 10.4MB/s eta 0:00:01\r\u001b[K     |█████████████████████▋          | 1.0MB 10.4MB/s eta 0:00:01\r\u001b[K     |█████████████████████▉          | 1.0MB 10.4MB/s eta 0:00:01\r\u001b[K     |██████████████████████          | 1.0MB 10.4MB/s eta 0:00:01\r\u001b[K     |██████████████████████▎         | 1.1MB 10.4MB/s eta 0:00:01\r\u001b[K     |██████████████████████▌         | 1.1MB 10.4MB/s eta 0:00:01\r\u001b[K     |██████████████████████▊         | 1.1MB 10.4MB/s eta 0:00:01\r\u001b[K     |███████████████████████         | 1.1MB 10.4MB/s eta 0:00:01\r\u001b[K     |███████████████████████▏        | 1.1MB 10.4MB/s eta 0:00:01\r\u001b[K     |███████████████████████▍        | 1.1MB 10.4MB/s eta 0:00:01\r\u001b[K     |███████████████████████▋        | 1.1MB 10.4MB/s eta 0:00:01\r\u001b[K     |███████████████████████▉        | 1.1MB 10.4MB/s eta 0:00:01\r\u001b[K     |████████████████████████        | 1.1MB 10.4MB/s eta 0:00:01\r\u001b[K     |████████████████████████▎       | 1.1MB 10.4MB/s eta 0:00:01\r\u001b[K     |████████████████████████▌       | 1.2MB 10.4MB/s eta 0:00:01\r\u001b[K     |████████████████████████▊       | 1.2MB 10.4MB/s eta 0:00:01\r\u001b[K     |█████████████████████████       | 1.2MB 10.4MB/s eta 0:00:01\r\u001b[K     |█████████████████████████▏      | 1.2MB 10.4MB/s eta 0:00:01\r\u001b[K     |█████████████████████████▍      | 1.2MB 10.4MB/s eta 0:00:01\r\u001b[K     |█████████████████████████▋      | 1.2MB 10.4MB/s eta 0:00:01\r\u001b[K     |█████████████████████████▊      | 1.2MB 10.4MB/s eta 0:00:01\r\u001b[K     |██████████████████████████      | 1.2MB 10.4MB/s eta 0:00:01\r\u001b[K     |██████████████████████████▏     | 1.2MB 10.4MB/s eta 0:00:01\r\u001b[K     |██████████████████████████▍     | 1.2MB 10.4MB/s eta 0:00:01\r\u001b[K     |██████████████████████████▋     | 1.3MB 10.4MB/s eta 0:00:01\r\u001b[K     |██████████████████████████▉     | 1.3MB 10.4MB/s eta 0:00:01\r\u001b[K     |███████████████████████████     | 1.3MB 10.4MB/s eta 0:00:01\r\u001b[K     |███████████████████████████▎    | 1.3MB 10.4MB/s eta 0:00:01\r\u001b[K     |███████████████████████████▌    | 1.3MB 10.4MB/s eta 0:00:01\r\u001b[K     |███████████████████████████▊    | 1.3MB 10.4MB/s eta 0:00:01\r\u001b[K     |████████████████████████████    | 1.3MB 10.4MB/s eta 0:00:01\r\u001b[K     |████████████████████████████▏   | 1.3MB 10.4MB/s eta 0:00:01\r\u001b[K     |████████████████████████████▍   | 1.3MB 10.4MB/s eta 0:00:01\r\u001b[K     |████████████████████████████▋   | 1.4MB 10.4MB/s eta 0:00:01\r\u001b[K     |████████████████████████████▉   | 1.4MB 10.4MB/s eta 0:00:01\r\u001b[K     |█████████████████████████████   | 1.4MB 10.4MB/s eta 0:00:01\r\u001b[K     |█████████████████████████████▎  | 1.4MB 10.4MB/s eta 0:00:01\r\u001b[K     |█████████████████████████████▌  | 1.4MB 10.4MB/s eta 0:00:01\r\u001b[K     |█████████████████████████████▊  | 1.4MB 10.4MB/s eta 0:00:01\r\u001b[K     |█████████████████████████████▉  | 1.4MB 10.4MB/s eta 0:00:01\r\u001b[K     |██████████████████████████████  | 1.4MB 10.4MB/s eta 0:00:01\r\u001b[K     |██████████████████████████████▎ | 1.4MB 10.4MB/s eta 0:00:01\r\u001b[K     |██████████████████████████████▌ | 1.4MB 10.4MB/s eta 0:00:01\r\u001b[K     |██████████████████████████████▊ | 1.5MB 10.4MB/s eta 0:00:01\r\u001b[K     |███████████████████████████████ | 1.5MB 10.4MB/s eta 0:00:01\r\u001b[K     |███████████████████████████████▏| 1.5MB 10.4MB/s eta 0:00:01\r\u001b[K     |███████████████████████████████▍| 1.5MB 10.4MB/s eta 0:00:01\r\u001b[K     |███████████████████████████████▋| 1.5MB 10.4MB/s eta 0:00:01\r\u001b[K     |███████████████████████████████▉| 1.5MB 10.4MB/s eta 0:00:01\r\u001b[K     |████████████████████████████████| 1.5MB 10.4MB/s \n",
            "\u001b[?25hRequirement already satisfied: requests in /usr/local/lib/python3.6/dist-packages (from transformers) (2.23.0)\n",
            "Requirement already satisfied: numpy in /usr/local/lib/python3.6/dist-packages (from transformers) (1.19.4)\n",
            "Requirement already satisfied: regex!=2019.12.17 in /usr/local/lib/python3.6/dist-packages (from transformers) (2019.12.20)\n",
            "Collecting tokenizers==0.9.4\n",
            "\u001b[?25l  Downloading https://files.pythonhosted.org/packages/0f/1c/e789a8b12e28be5bc1ce2156cf87cb522b379be9cadc7ad8091a4cc107c4/tokenizers-0.9.4-cp36-cp36m-manylinux2010_x86_64.whl (2.9MB)\n",
            "\u001b[K     |████████████████████████████████| 2.9MB 52.8MB/s \n",
            "\u001b[?25hRequirement already satisfied: filelock in /usr/local/lib/python3.6/dist-packages (from transformers) (3.0.12)\n",
            "Requirement already satisfied: packaging in /usr/local/lib/python3.6/dist-packages (from transformers) (20.8)\n",
            "Requirement already satisfied: dataclasses; python_version < \"3.7\" in /usr/local/lib/python3.6/dist-packages (from transformers) (0.8)\n",
            "Collecting sacremoses\n",
            "\u001b[?25l  Downloading https://files.pythonhosted.org/packages/7d/34/09d19aff26edcc8eb2a01bed8e98f13a1537005d31e95233fd48216eed10/sacremoses-0.0.43.tar.gz (883kB)\n",
            "\u001b[K     |████████████████████████████████| 890kB 56.5MB/s \n",
            "\u001b[?25hRequirement already satisfied: tqdm>=4.27 in /usr/local/lib/python3.6/dist-packages (from transformers) (4.41.1)\n",
            "Requirement already satisfied: certifi>=2017.4.17 in /usr/local/lib/python3.6/dist-packages (from requests->transformers) (2020.12.5)\n",
            "Requirement already satisfied: chardet<4,>=3.0.2 in /usr/local/lib/python3.6/dist-packages (from requests->transformers) (3.0.4)\n",
            "Requirement already satisfied: urllib3!=1.25.0,!=1.25.1,<1.26,>=1.21.1 in /usr/local/lib/python3.6/dist-packages (from requests->transformers) (1.24.3)\n",
            "Requirement already satisfied: idna<3,>=2.5 in /usr/local/lib/python3.6/dist-packages (from requests->transformers) (2.10)\n",
            "Requirement already satisfied: pyparsing>=2.0.2 in /usr/local/lib/python3.6/dist-packages (from packaging->transformers) (2.4.7)\n",
            "Requirement already satisfied: six in /usr/local/lib/python3.6/dist-packages (from sacremoses->transformers) (1.15.0)\n",
            "Requirement already satisfied: click in /usr/local/lib/python3.6/dist-packages (from sacremoses->transformers) (7.1.2)\n",
            "Requirement already satisfied: joblib in /usr/local/lib/python3.6/dist-packages (from sacremoses->transformers) (1.0.0)\n",
            "Building wheels for collected packages: sacremoses\n",
            "  Building wheel for sacremoses (setup.py) ... \u001b[?25l\u001b[?25hdone\n",
            "  Created wheel for sacremoses: filename=sacremoses-0.0.43-cp36-none-any.whl size=893261 sha256=b0dcc6b9877a80473b11682db577fe533e63aa8effc377a1e609d7bada4967ab\n",
            "  Stored in directory: /root/.cache/pip/wheels/29/3c/fd/7ce5c3f0666dab31a50123635e6fb5e19ceb42ce38d4e58f45\n",
            "Successfully built sacremoses\n",
            "Installing collected packages: tokenizers, sacremoses, transformers\n",
            "Successfully installed sacremoses-0.0.43 tokenizers-0.9.4 transformers-4.1.1\n"
          ],
          "name": "stdout"
        }
      ]
    },
    {
      "cell_type": "code",
      "metadata": {
        "id": "x1hlIAqzL4Zn"
      },
      "source": [
        "import numpy as np\n",
        "import pandas as pd\n",
        "import json"
      ],
      "execution_count": null,
      "outputs": []
    },
    {
      "cell_type": "code",
      "metadata": {
        "id": "DBdfxHvZK-E0"
      },
      "source": [
        "import torch\n",
        "from transformers import BertModel, BertTokenizer, BertConfig, BertForMaskedLM, BertForSequenceClassification"
      ],
      "execution_count": null,
      "outputs": []
    },
    {
      "cell_type": "code",
      "metadata": {
        "id": "S8bOlEQaLJRr"
      },
      "source": [
        "#bert=BertModel.from_pretrained(\"bert-base-chinese\")"
      ],
      "execution_count": null,
      "outputs": []
    },
    {
      "cell_type": "code",
      "metadata": {
        "id": "UkBLDvXhL5M7",
        "colab": {
          "base_uri": "https://localhost:8080/",
          "height": 67,
          "referenced_widgets": [
            "4f836b114a0147be801be93f9188fd75",
            "878eff1ab6fd487bad32c292385c189d",
            "cec3d74f550441c6a785430e0c33c277",
            "7a24e0583557417e80c78f7a985f5777",
            "4e8d64cbffc4438d8f4e71b096bbe869",
            "f9d7e6324b1c4f2481f7f7ba126acd4f",
            "ee92e130ea104eb1833243064ba41b08",
            "e46f0476fdfc48a7802c001926367f5f"
          ]
        },
        "outputId": "4e9f2f94-621a-4157-823c-13d4d8b3dd51"
      },
      "source": [
        "tokenizer=BertTokenizer.from_pretrained(\"bert-base-chinese\")"
      ],
      "execution_count": null,
      "outputs": [
        {
          "output_type": "display_data",
          "data": {
            "application/vnd.jupyter.widget-view+json": {
              "model_id": "4f836b114a0147be801be93f9188fd75",
              "version_minor": 0,
              "version_major": 2
            },
            "text/plain": [
              "HBox(children=(FloatProgress(value=0.0, description='Downloading', max=109540.0, style=ProgressStyle(descripti…"
            ]
          },
          "metadata": {
            "tags": []
          }
        },
        {
          "output_type": "stream",
          "text": [
            "\n"
          ],
          "name": "stdout"
        }
      ]
    },
    {
      "cell_type": "code",
      "metadata": {
        "id": "BD9yyiMRomlr"
      },
      "source": [
        "dict = {              #自定义BertConfig\n",
        "  \"architectures\": [\n",
        "    \"BertForMaskedLM\"\n",
        "  ],\n",
        "  \"attention_probs_dropout_prob\": 0.1,\n",
        "  \"directionality\": \"bidi\",\n",
        "  \"hidden_act\": \"gelu\",\n",
        "  \"hidden_dropout_prob\": 0.15, #提高dropout\n",
        "  \"hidden_size\": 768,\n",
        "  \"initializer_range\": 0.02,\n",
        "  \"intermediate_size\": 3072,\n",
        "  \"layer_norm_eps\": 1e-12,\n",
        "  \"max_position_embeddings\": 512,\n",
        "  \"model_type\": \"bert\",\n",
        "  \"num_attention_heads\": 12,\n",
        "  \"num_hidden_layers\": 12,\n",
        "  \"pad_token_id\": 0,\n",
        "  \"pooler_fc_size\": 768,\n",
        "  \"pooler_num_attention_heads\": 12,\n",
        "  \"pooler_num_fc_layers\": 3,\n",
        "  \"pooler_size_per_head\": 128,\n",
        "  \"pooler_type\": \"first_token_transform\",\n",
        "  \"position_embedding_type\": \"absolute\",\n",
        "  \"type_vocab_size\": 2,\n",
        "  \"vocab_size\": 21128\n",
        "}\n",
        "\n",
        "with open(\"config.json\",'w') as file_obj:\n",
        "  json.dump(dict,file_obj)"
      ],
      "execution_count": null,
      "outputs": []
    },
    {
      "cell_type": "code",
      "metadata": {
        "id": "a-jxPydVMEaz"
      },
      "source": [
        "model_config=BertConfig.from_json_file(\"config.json\")"
      ],
      "execution_count": null,
      "outputs": []
    },
    {
      "cell_type": "code",
      "metadata": {
        "colab": {
          "base_uri": "https://localhost:8080/"
        },
        "id": "RzJ15HLxnnuR",
        "outputId": "efaa0dcf-48cb-4320-ab5f-989c61ca27bc"
      },
      "source": [
        "model_config"
      ],
      "execution_count": null,
      "outputs": [
        {
          "output_type": "execute_result",
          "data": {
            "text/plain": [
              "BertConfig {\n",
              "  \"architectures\": [\n",
              "    \"BertForMaskedLM\"\n",
              "  ],\n",
              "  \"attention_probs_dropout_prob\": 0.1,\n",
              "  \"directionality\": \"bidi\",\n",
              "  \"gradient_checkpointing\": false,\n",
              "  \"hidden_act\": \"gelu\",\n",
              "  \"hidden_dropout_prob\": 0.15,\n",
              "  \"hidden_size\": 768,\n",
              "  \"initializer_range\": 0.02,\n",
              "  \"intermediate_size\": 3072,\n",
              "  \"layer_norm_eps\": 1e-12,\n",
              "  \"max_position_embeddings\": 512,\n",
              "  \"model_type\": \"bert\",\n",
              "  \"num_attention_heads\": 12,\n",
              "  \"num_hidden_layers\": 12,\n",
              "  \"pad_token_id\": 0,\n",
              "  \"pooler_fc_size\": 768,\n",
              "  \"pooler_num_attention_heads\": 12,\n",
              "  \"pooler_num_fc_layers\": 3,\n",
              "  \"pooler_size_per_head\": 128,\n",
              "  \"pooler_type\": \"first_token_transform\",\n",
              "  \"position_embedding_type\": \"absolute\",\n",
              "  \"type_vocab_size\": 2,\n",
              "  \"vocab_size\": 21128\n",
              "}"
            ]
          },
          "metadata": {
            "tags": []
          },
          "execution_count": 8
        }
      ]
    },
    {
      "cell_type": "code",
      "metadata": {
        "colab": {
          "base_uri": "https://localhost:8080/"
        },
        "id": "jJ_EGfQCh5xb",
        "outputId": "fe2177fc-1568-4f28-ee9f-071a3d427296"
      },
      "source": [
        "from google.colab import drive\n",
        "drive.mount('/content/drive')"
      ],
      "execution_count": null,
      "outputs": [
        {
          "output_type": "stream",
          "text": [
            "Mounted at /content/drive\n"
          ],
          "name": "stdout"
        }
      ]
    },
    {
      "cell_type": "code",
      "metadata": {
        "id": "tEt3KGYPi9gt"
      },
      "source": [
        "path = '/content/drive/My Drive/data_sampled_20000.csv'"
      ],
      "execution_count": null,
      "outputs": []
    },
    {
      "cell_type": "code",
      "metadata": {
        "id": "hbzYZWmejBI4"
      },
      "source": [
        "def label_to_category(label):   #将标签转化为编号\n",
        "  if label == '词':\n",
        "    return 0\n",
        "  elif label == '诗':\n",
        "    return 1\n",
        "  elif label == '文言文':\n",
        "    return 2\n",
        "  elif label == '新闻':\n",
        "    return 3\n",
        "  elif label == '期刊':\n",
        "    return 4\n",
        "  else:\n",
        "    print(\"标签格式存在异常\")"
      ],
      "execution_count": null,
      "outputs": []
    },
    {
      "cell_type": "code",
      "metadata": {
        "id": "htQddilSjEpA"
      },
      "source": [
        "def get_data(file_path):#获取数据集的文本和标签信息\n",
        "    data = pd.read_csv(file_path)\n",
        "    \n",
        "    #ci = data[data.类别=='词'].sample(n=20000,random_state=10, axis=0)\n",
        "    #poem = data[data.类别=='诗'].sample(n=20000,random_state=12, axis=0)\n",
        "    #wyw = data[data.类别=='文言文'].sample(n=20000,random_state=15, axis=0)\n",
        "    #news = data[data.类别=='新闻'].sample(n=20000,random_state=16, axis=0)\n",
        "    #journal = data[data.类别=='期刊'].sample(n=20000,random_state=18, axis=0)\n",
        "    #print(len(ci),len(poem),len(wyw),len(news),len(journal))\n",
        "    \n",
        "    #temp = pd.concat([ci,poem,wyw,news,journal])\n",
        "    #temp = temp[['文本','类别']]\n",
        "    #temp.to_csv('/content/drive/My Drive/data_sampled_20000.csv')\n",
        "    \n",
        "    content = data['文本']\n",
        "    labels = np.asarray([label_to_category(label) for label in data['类别']])\n",
        "    return content, labels\n",
        " \n",
        "content,labels=get_data(path)"
      ],
      "execution_count": null,
      "outputs": []
    },
    {
      "cell_type": "code",
      "metadata": {
        "colab": {
          "base_uri": "https://localhost:8080/"
        },
        "id": "YOXn1r48PT6b",
        "outputId": "170fd3aa-85d9-4e69-e0bd-0f0b25c25add"
      },
      "source": [
        "content"
      ],
      "execution_count": null,
      "outputs": [
        {
          "output_type": "execute_result",
          "data": {
            "text/plain": [
              "0                              休 说 季 伦 锦 帐 ， 山 南 岸 、 更 花 密\n",
              "1                              抛 家 傍 路 ， 思 量 却 是 ， 无 情 有 思\n",
              "2                                                拥 衾 思 旧 约\n",
              "3                                            芙 蓉 无 处 著 秋 光\n",
              "4                                            浓 绿 阴 中 人 买 酒\n",
              "                               ...                        \n",
              "99995    因 为 拥 有 儿 子 的 老 年 人 一 方 面 可 以 从 儿 子 那 里 得 到 经 ...\n",
              "99996    家 庭 农 场 发 展 初 期 拥 有 的 资 源 较 少 ， 农 场 主 的 经 验 相 ...\n",
              "99997    此 外 ， 由 于 内 地 生 具 有 多 元 群 体 资 格 ， 他 们 往 往 会 以 ...\n",
              "99998    由 于 宗 族 规 范 强 ，  家 族 成 员 间 在 借 钱 等 方 面 借 人 情 容...\n",
              "99999    在 政 府 监 督 、 管 理 下 ，  政 府 要 积 极 引 导 民 间 资 本 、 社...\n",
              "Name: 文本, Length: 100000, dtype: object"
            ]
          },
          "metadata": {
            "tags": []
          },
          "execution_count": 13
        }
      ]
    },
    {
      "cell_type": "code",
      "metadata": {
        "id": "Ct0xXgdeMQ2b"
      },
      "source": [
        "data=[]"
      ],
      "execution_count": null,
      "outputs": []
    },
    {
      "cell_type": "code",
      "metadata": {
        "id": "f2ro5jI-RFtj"
      },
      "source": [
        "for sentence in content:\n",
        "  sentence = sentence[:128]\n",
        "  data.append(tokenizer.encode(sentence)) #将句子转换为BERT预训练模型中的id\n",
        "del content"
      ],
      "execution_count": null,
      "outputs": []
    },
    {
      "cell_type": "code",
      "metadata": {
        "colab": {
          "base_uri": "https://localhost:8080/"
        },
        "id": "bcOAiwkc01Hh",
        "outputId": "662ae225-7494-491d-ebca-51dcac16c236"
      },
      "source": [
        "data[:5]"
      ],
      "execution_count": null,
      "outputs": [
        {
          "output_type": "execute_result",
          "data": {
            "text/plain": [
              "[[101,\n",
              "  828,\n",
              "  6432,\n",
              "  2108,\n",
              "  840,\n",
              "  7239,\n",
              "  2362,\n",
              "  8024,\n",
              "  2255,\n",
              "  1298,\n",
              "  2279,\n",
              "  510,\n",
              "  3291,\n",
              "  5709,\n",
              "  2166,\n",
              "  102],\n",
              " [101,\n",
              "  2837,\n",
              "  2157,\n",
              "  988,\n",
              "  6662,\n",
              "  8024,\n",
              "  2590,\n",
              "  7030,\n",
              "  1316,\n",
              "  3221,\n",
              "  8024,\n",
              "  3187,\n",
              "  2658,\n",
              "  3300,\n",
              "  2590,\n",
              "  102],\n",
              " [101, 2881, 6143, 2590, 3191, 5276, 102],\n",
              " [101, 5696, 5900, 3187, 1905, 5865, 4904, 1045, 102],\n",
              " [101, 3849, 5344, 7346, 704, 782, 743, 6983, 102]]"
            ]
          },
          "metadata": {
            "tags": []
          },
          "execution_count": 16
        }
      ]
    },
    {
      "cell_type": "code",
      "metadata": {
        "id": "K_ugpiNVgAJJ"
      },
      "source": [
        "import keras\n",
        "X_padded=keras.preprocessing.sequence.pad_sequences(data,maxlen=128, dtype=\"long\", truncating=\"post\", padding=\"post\") #对齐句子\n",
        "del data"
      ],
      "execution_count": null,
      "outputs": []
    },
    {
      "cell_type": "code",
      "metadata": {
        "colab": {
          "base_uri": "https://localhost:8080/"
        },
        "id": "7x7-07fWgmbp",
        "outputId": "5ca57218-7281-4f68-9c9a-ce5a5feeff48"
      },
      "source": [
        "X_padded[:5]"
      ],
      "execution_count": null,
      "outputs": [
        {
          "output_type": "execute_result",
          "data": {
            "text/plain": [
              "array([[ 101,  828, 6432, 2108,  840, 7239, 2362, 8024, 2255, 1298, 2279,\n",
              "         510, 3291, 5709, 2166,  102,    0,    0,    0,    0,    0,    0,\n",
              "           0,    0,    0,    0,    0,    0,    0,    0,    0,    0,    0,\n",
              "           0,    0,    0,    0,    0,    0,    0,    0,    0,    0,    0,\n",
              "           0,    0,    0,    0,    0,    0,    0,    0,    0,    0,    0,\n",
              "           0,    0,    0,    0,    0,    0,    0,    0,    0,    0,    0,\n",
              "           0,    0,    0,    0,    0,    0,    0,    0,    0,    0,    0,\n",
              "           0,    0,    0,    0,    0,    0,    0,    0,    0,    0,    0,\n",
              "           0,    0,    0,    0,    0,    0,    0,    0,    0,    0,    0,\n",
              "           0,    0,    0,    0,    0,    0,    0,    0,    0,    0,    0,\n",
              "           0,    0,    0,    0,    0,    0,    0,    0,    0,    0,    0,\n",
              "           0,    0,    0,    0,    0,    0,    0],\n",
              "       [ 101, 2837, 2157,  988, 6662, 8024, 2590, 7030, 1316, 3221, 8024,\n",
              "        3187, 2658, 3300, 2590,  102,    0,    0,    0,    0,    0,    0,\n",
              "           0,    0,    0,    0,    0,    0,    0,    0,    0,    0,    0,\n",
              "           0,    0,    0,    0,    0,    0,    0,    0,    0,    0,    0,\n",
              "           0,    0,    0,    0,    0,    0,    0,    0,    0,    0,    0,\n",
              "           0,    0,    0,    0,    0,    0,    0,    0,    0,    0,    0,\n",
              "           0,    0,    0,    0,    0,    0,    0,    0,    0,    0,    0,\n",
              "           0,    0,    0,    0,    0,    0,    0,    0,    0,    0,    0,\n",
              "           0,    0,    0,    0,    0,    0,    0,    0,    0,    0,    0,\n",
              "           0,    0,    0,    0,    0,    0,    0,    0,    0,    0,    0,\n",
              "           0,    0,    0,    0,    0,    0,    0,    0,    0,    0,    0,\n",
              "           0,    0,    0,    0,    0,    0,    0],\n",
              "       [ 101, 2881, 6143, 2590, 3191, 5276,  102,    0,    0,    0,    0,\n",
              "           0,    0,    0,    0,    0,    0,    0,    0,    0,    0,    0,\n",
              "           0,    0,    0,    0,    0,    0,    0,    0,    0,    0,    0,\n",
              "           0,    0,    0,    0,    0,    0,    0,    0,    0,    0,    0,\n",
              "           0,    0,    0,    0,    0,    0,    0,    0,    0,    0,    0,\n",
              "           0,    0,    0,    0,    0,    0,    0,    0,    0,    0,    0,\n",
              "           0,    0,    0,    0,    0,    0,    0,    0,    0,    0,    0,\n",
              "           0,    0,    0,    0,    0,    0,    0,    0,    0,    0,    0,\n",
              "           0,    0,    0,    0,    0,    0,    0,    0,    0,    0,    0,\n",
              "           0,    0,    0,    0,    0,    0,    0,    0,    0,    0,    0,\n",
              "           0,    0,    0,    0,    0,    0,    0,    0,    0,    0,    0,\n",
              "           0,    0,    0,    0,    0,    0,    0],\n",
              "       [ 101, 5696, 5900, 3187, 1905, 5865, 4904, 1045,  102,    0,    0,\n",
              "           0,    0,    0,    0,    0,    0,    0,    0,    0,    0,    0,\n",
              "           0,    0,    0,    0,    0,    0,    0,    0,    0,    0,    0,\n",
              "           0,    0,    0,    0,    0,    0,    0,    0,    0,    0,    0,\n",
              "           0,    0,    0,    0,    0,    0,    0,    0,    0,    0,    0,\n",
              "           0,    0,    0,    0,    0,    0,    0,    0,    0,    0,    0,\n",
              "           0,    0,    0,    0,    0,    0,    0,    0,    0,    0,    0,\n",
              "           0,    0,    0,    0,    0,    0,    0,    0,    0,    0,    0,\n",
              "           0,    0,    0,    0,    0,    0,    0,    0,    0,    0,    0,\n",
              "           0,    0,    0,    0,    0,    0,    0,    0,    0,    0,    0,\n",
              "           0,    0,    0,    0,    0,    0,    0,    0,    0,    0,    0,\n",
              "           0,    0,    0,    0,    0,    0,    0],\n",
              "       [ 101, 3849, 5344, 7346,  704,  782,  743, 6983,  102,    0,    0,\n",
              "           0,    0,    0,    0,    0,    0,    0,    0,    0,    0,    0,\n",
              "           0,    0,    0,    0,    0,    0,    0,    0,    0,    0,    0,\n",
              "           0,    0,    0,    0,    0,    0,    0,    0,    0,    0,    0,\n",
              "           0,    0,    0,    0,    0,    0,    0,    0,    0,    0,    0,\n",
              "           0,    0,    0,    0,    0,    0,    0,    0,    0,    0,    0,\n",
              "           0,    0,    0,    0,    0,    0,    0,    0,    0,    0,    0,\n",
              "           0,    0,    0,    0,    0,    0,    0,    0,    0,    0,    0,\n",
              "           0,    0,    0,    0,    0,    0,    0,    0,    0,    0,    0,\n",
              "           0,    0,    0,    0,    0,    0,    0,    0,    0,    0,    0,\n",
              "           0,    0,    0,    0,    0,    0,    0,    0,    0,    0,    0,\n",
              "           0,    0,    0,    0,    0,    0,    0]])"
            ]
          },
          "metadata": {
            "tags": []
          },
          "execution_count": 18
        }
      ]
    },
    {
      "cell_type": "code",
      "metadata": {
        "id": "-ewSQwrOjm8d"
      },
      "source": [
        "from sklearn.model_selection import train_test_split\n",
        "#X_padded = np.load('/content/drive/My Drive/X_padded_bert.npy')\n",
        "X_train, X_test, y_train, y_test = train_test_split(X_padded, labels, test_size=0.4, random_state=21) #训练集、验证集、测试集比例为6:2:2\n",
        "X_val, X_test, y_val, y_test = train_test_split(X_test, y_test, test_size=0.5, random_state=21)\n",
        "del X_padded"
      ],
      "execution_count": null,
      "outputs": []
    },
    {
      "cell_type": "code",
      "metadata": {
        "colab": {
          "base_uri": "https://localhost:8080/"
        },
        "id": "NNTMbB2MpFId",
        "outputId": "5069b317-5713-427b-90eb-fe2535be8691"
      },
      "source": [
        "print(len(X_train),len(X_val),len(X_test))"
      ],
      "execution_count": null,
      "outputs": [
        {
          "output_type": "stream",
          "text": [
            "60000 20000 20000\n"
          ],
          "name": "stdout"
        }
      ]
    },
    {
      "cell_type": "code",
      "metadata": {
        "id": "L4IshCubg6DZ"
      },
      "source": [
        "def get_masks(data): #BERT的MASK\n",
        "  attention_masks = []\n",
        "  for seq in data:\n",
        "    seq_mask = [float(i>0) for i in seq]\n",
        "    attention_masks.append(seq_mask)\n",
        "  return attention_masks"
      ],
      "execution_count": null,
      "outputs": []
    },
    {
      "cell_type": "code",
      "metadata": {
        "id": "BvlKAbK0hXUL"
      },
      "source": [
        "train_masks = get_masks(X_train)"
      ],
      "execution_count": null,
      "outputs": []
    },
    {
      "cell_type": "code",
      "metadata": {
        "id": "DOZMO-Esh4bw"
      },
      "source": [
        "val_masks = get_masks(X_val)"
      ],
      "execution_count": null,
      "outputs": []
    },
    {
      "cell_type": "code",
      "metadata": {
        "id": "6_Vqb2ov5wy9"
      },
      "source": [
        "test_masks = get_masks(X_test)"
      ],
      "execution_count": null,
      "outputs": []
    },
    {
      "cell_type": "code",
      "metadata": {
        "id": "VehXZzHNh_na"
      },
      "source": [
        "import torch.utils.data as Data\n",
        " \n",
        "x_train_tensor = torch.LongTensor(X_train)\n",
        "y_train_tensor = torch.LongTensor(y_train)\n",
        "del X_train, y_train\n",
        "x_val_tensor = torch.LongTensor(X_val)\n",
        "y_val_tensor = torch.LongTensor(y_val)\n",
        "del X_val, y_val\n",
        "x_test_tensor = torch.LongTensor(X_test)\n",
        "y_test_tensor = torch.LongTensor(y_test)\n",
        "del X_test ,y_test\n",
        " \n",
        "train_masks = torch.LongTensor(train_masks)\n",
        "val_masks = torch.LongTensor(val_masks)\n",
        "test_masks = torch.LongTensor(test_masks)\n",
        " \n",
        "train_data = Data.TensorDataset(x_train_tensor, train_masks, y_train_tensor) # 将数据放入 torch_dataset\n",
        "del x_train_tensor, train_masks, y_train_tensor\n",
        "val_data = Data.TensorDataset(x_val_tensor, val_masks, y_val_tensor)\n",
        "del x_val_tensor, val_masks, y_val_tensor\n",
        "test_data = Data.TensorDataset(x_test_tensor, test_masks, y_test_tensor)\n",
        "del x_test_tensor, test_masks, y_test_tensor \n",
        " \n",
        "BATCH_SIZE = 64                     # BATCH_SIZE为64\n",
        "train_loader=Data.DataLoader(\n",
        "        dataset=train_data,            # 将数据放入loader\n",
        "        batch_size=BATCH_SIZE,          \n",
        "        shuffle=True                # 是否打乱数据的排布\n",
        "        )\n",
        "del train_data\n",
        "val_loader=Data.DataLoader(\n",
        "        dataset=val_data,             # 将数据放入loader\n",
        "        batch_size=BATCH_SIZE,           \n",
        "        shuffle=True                # 是否打乱数据的排布\n",
        "        )\n",
        "del val_data\n",
        "test_loader=Data.DataLoader(\n",
        "        dataset=test_data,             # 将数据放入loader\n",
        "        batch_size=BATCH_SIZE,         \n",
        "        shuffle=True                # 是否打乱数据的排布\n",
        "        )\n",
        "del test_data"
      ],
      "execution_count": null,
      "outputs": []
    },
    {
      "cell_type": "code",
      "metadata": {
        "colab": {
          "base_uri": "https://localhost:8080/"
        },
        "id": "DsX_3nB1lRkm",
        "outputId": "2a914952-3bef-48b6-8539-6d4a144eeeca"
      },
      "source": [
        "def go(loader): #测试loader是否正常\n",
        "  for step, (x,y,z) in enumerate(loader):\n",
        "    print(z)\n",
        "    break\n",
        "go(train_loader)\n",
        "go(val_loader)\n",
        "go(test_loader)"
      ],
      "execution_count": null,
      "outputs": [
        {
          "output_type": "stream",
          "text": [
            "tensor([0, 4, 3, 3, 2, 4, 0, 0, 0, 4, 2, 4, 3, 3, 4, 0, 1, 3, 0, 2, 0, 0, 3, 0,\n",
            "        0, 0, 3, 1, 0, 1, 1, 4, 0, 3, 2, 0, 0, 0, 3, 3, 1, 3, 3, 0, 1, 4, 3, 3,\n",
            "        1, 1, 1, 4, 4, 0, 4, 4, 3, 4, 3, 4, 0, 2, 0, 2])\n",
            "tensor([2, 1, 0, 1, 2, 1, 3, 0, 0, 3, 4, 4, 1, 0, 0, 0, 1, 3, 1, 4, 3, 3, 0, 2,\n",
            "        4, 4, 4, 1, 2, 2, 4, 3, 3, 0, 3, 0, 2, 3, 1, 4, 4, 1, 3, 4, 0, 1, 0, 0,\n",
            "        2, 4, 3, 1, 1, 0, 0, 4, 1, 0, 3, 1, 0, 3, 0, 3])\n",
            "tensor([4, 2, 4, 2, 1, 1, 2, 3, 0, 0, 1, 3, 2, 3, 4, 1, 4, 1, 4, 2, 0, 0, 3, 2,\n",
            "        1, 4, 3, 2, 1, 4, 4, 4, 1, 4, 0, 0, 4, 1, 1, 4, 2, 4, 2, 4, 1, 1, 3, 2,\n",
            "        3, 0, 1, 0, 3, 1, 2, 0, 1, 0, 0, 2, 4, 0, 3, 3])\n"
          ],
          "name": "stdout"
        }
      ]
    },
    {
      "cell_type": "code",
      "metadata": {
        "colab": {
          "base_uri": "https://localhost:8080/"
        },
        "id": "1ZikXm-UvCHv",
        "outputId": "a6aa48cd-cc48-4cd9-bbf9-c27982b7a711"
      },
      "source": [
        "device = torch.device('cuda:0' if torch.cuda.is_available() else 'cpu')\n",
        "print(device)"
      ],
      "execution_count": null,
      "outputs": [
        {
          "output_type": "stream",
          "text": [
            "cuda:0\n"
          ],
          "name": "stdout"
        }
      ]
    },
    {
      "cell_type": "code",
      "metadata": {
        "id": "8RkAIyZWotVX"
      },
      "source": [
        "from transformers import BertForSequenceClassification, BertPreTrainedModel\n",
        "from transformers.modeling_outputs import SequenceClassifierOutput #\n",
        "\n",
        "class BertForMultiClassSequenceClassification(BertPreTrainedModel): #重写BertForSequenceClassification类\n",
        "    def __init__(self, config):\n",
        "        super().__init__(config)\n",
        "        self.num_labels = 5 #分为5类（源码里默认是2类）\n",
        "\n",
        "    #以下都是源码，未改动\n",
        "        self.bert = BertModel(config)\n",
        "        self.dropout = torch.nn.Dropout(0.2) #增加Dropout\n",
        "        self.classifier = torch.nn.Linear(config.hidden_size, 5) #全连接层\n",
        " \n",
        "        self.init_weights()\n",
        "\n",
        " \n",
        "    def forward(\n",
        "        self,\n",
        "        input_ids=None,\n",
        "        attention_mask=None,\n",
        "        token_type_ids=None,\n",
        "        position_ids=None,\n",
        "        head_mask=None,\n",
        "        inputs_embeds=None,\n",
        "        labels=None,\n",
        "        output_attentions=None,\n",
        "        output_hidden_states=None,\n",
        "        return_dict=None\n",
        "    ):\n",
        "        \"\"\"\n",
        "        labels (:obj:`torch.LongTensor` of shape :obj:`(batch_size,)`, `optional`):\n",
        "            Labels for computing the sequence classification/regression loss. Indices should be in :obj:`[0, ...,\n",
        "            config.num_labels - 1]`. If :obj:`config.num_labels == 1` a regression loss is computed (Mean-Square loss),\n",
        "            If :obj:`config.num_labels > 1` a classification loss is computed (Cross-Entropy).\n",
        "        \"\"\"\n",
        "        return_dict = return_dict if return_dict is not None else self.config.use_return_dict\n",
        " \n",
        "        outputs = self.bert(\n",
        "            input_ids,\n",
        "            attention_mask=attention_mask,\n",
        "            token_type_ids=token_type_ids,\n",
        "            position_ids=position_ids,\n",
        "            head_mask=head_mask,\n",
        "            inputs_embeds=inputs_embeds,\n",
        "            output_attentions=output_attentions,\n",
        "            output_hidden_states=output_hidden_states,\n",
        "            return_dict=return_dict,\n",
        "        )\n",
        " \n",
        "        pooled_output = outputs[1]\n",
        " \n",
        "        pooled_output = self.dropout(pooled_output)\n",
        "        logits = self.classifier(pooled_output)\n",
        "        #print(logits)\n",
        " \n",
        "        loss = None\n",
        "        if labels is not None:\n",
        "            if self.num_labels == 1:\n",
        "                #  We are doing regression\n",
        "                loss_fct = MSELoss()\n",
        "                loss = loss_fct(logits.view(-1), labels.view(-1))\n",
        "            else:\n",
        "                loss_fct = torch.nn.CrossEntropyLoss()\n",
        "                loss = loss_fct(logits.view(-1, self.num_labels), labels.view(-1))\n",
        " \n",
        "        if not return_dict:\n",
        "            output = (logits,) + outputs[2:]\n",
        "            return ((loss,) + output) if loss is not None else output\n",
        " \n",
        "        return SequenceClassifierOutput(\n",
        "            loss=loss,\n",
        "            logits=logits,\n",
        "            hidden_states=outputs.hidden_states,\n",
        "            attentions=outputs.attentions,\n",
        "        )"
      ],
      "execution_count": null,
      "outputs": []
    },
    {
      "cell_type": "code",
      "metadata": {
        "colab": {
          "base_uri": "https://localhost:8080/"
        },
        "id": "aqUltFwZlWEp",
        "outputId": "ea9eec84-60c9-4b11-ffa0-d8fc2a279a5f"
      },
      "source": [
        "model = BertForMultiClassSequenceClassification(model_config) #Bert模型\n",
        "model.to(device)"
      ],
      "execution_count": null,
      "outputs": [
        {
          "output_type": "execute_result",
          "data": {
            "text/plain": [
              "BertForMultiClassSequenceClassification(\n",
              "  (bert): BertModel(\n",
              "    (embeddings): BertEmbeddings(\n",
              "      (word_embeddings): Embedding(21128, 768, padding_idx=0)\n",
              "      (position_embeddings): Embedding(512, 768)\n",
              "      (token_type_embeddings): Embedding(2, 768)\n",
              "      (LayerNorm): LayerNorm((768,), eps=1e-12, elementwise_affine=True)\n",
              "      (dropout): Dropout(p=0.15, inplace=False)\n",
              "    )\n",
              "    (encoder): BertEncoder(\n",
              "      (layer): ModuleList(\n",
              "        (0): BertLayer(\n",
              "          (attention): BertAttention(\n",
              "            (self): BertSelfAttention(\n",
              "              (query): Linear(in_features=768, out_features=768, bias=True)\n",
              "              (key): Linear(in_features=768, out_features=768, bias=True)\n",
              "              (value): Linear(in_features=768, out_features=768, bias=True)\n",
              "              (dropout): Dropout(p=0.1, inplace=False)\n",
              "            )\n",
              "            (output): BertSelfOutput(\n",
              "              (dense): Linear(in_features=768, out_features=768, bias=True)\n",
              "              (LayerNorm): LayerNorm((768,), eps=1e-12, elementwise_affine=True)\n",
              "              (dropout): Dropout(p=0.15, inplace=False)\n",
              "            )\n",
              "          )\n",
              "          (intermediate): BertIntermediate(\n",
              "            (dense): Linear(in_features=768, out_features=3072, bias=True)\n",
              "          )\n",
              "          (output): BertOutput(\n",
              "            (dense): Linear(in_features=3072, out_features=768, bias=True)\n",
              "            (LayerNorm): LayerNorm((768,), eps=1e-12, elementwise_affine=True)\n",
              "            (dropout): Dropout(p=0.15, inplace=False)\n",
              "          )\n",
              "        )\n",
              "        (1): BertLayer(\n",
              "          (attention): BertAttention(\n",
              "            (self): BertSelfAttention(\n",
              "              (query): Linear(in_features=768, out_features=768, bias=True)\n",
              "              (key): Linear(in_features=768, out_features=768, bias=True)\n",
              "              (value): Linear(in_features=768, out_features=768, bias=True)\n",
              "              (dropout): Dropout(p=0.1, inplace=False)\n",
              "            )\n",
              "            (output): BertSelfOutput(\n",
              "              (dense): Linear(in_features=768, out_features=768, bias=True)\n",
              "              (LayerNorm): LayerNorm((768,), eps=1e-12, elementwise_affine=True)\n",
              "              (dropout): Dropout(p=0.15, inplace=False)\n",
              "            )\n",
              "          )\n",
              "          (intermediate): BertIntermediate(\n",
              "            (dense): Linear(in_features=768, out_features=3072, bias=True)\n",
              "          )\n",
              "          (output): BertOutput(\n",
              "            (dense): Linear(in_features=3072, out_features=768, bias=True)\n",
              "            (LayerNorm): LayerNorm((768,), eps=1e-12, elementwise_affine=True)\n",
              "            (dropout): Dropout(p=0.15, inplace=False)\n",
              "          )\n",
              "        )\n",
              "        (2): BertLayer(\n",
              "          (attention): BertAttention(\n",
              "            (self): BertSelfAttention(\n",
              "              (query): Linear(in_features=768, out_features=768, bias=True)\n",
              "              (key): Linear(in_features=768, out_features=768, bias=True)\n",
              "              (value): Linear(in_features=768, out_features=768, bias=True)\n",
              "              (dropout): Dropout(p=0.1, inplace=False)\n",
              "            )\n",
              "            (output): BertSelfOutput(\n",
              "              (dense): Linear(in_features=768, out_features=768, bias=True)\n",
              "              (LayerNorm): LayerNorm((768,), eps=1e-12, elementwise_affine=True)\n",
              "              (dropout): Dropout(p=0.15, inplace=False)\n",
              "            )\n",
              "          )\n",
              "          (intermediate): BertIntermediate(\n",
              "            (dense): Linear(in_features=768, out_features=3072, bias=True)\n",
              "          )\n",
              "          (output): BertOutput(\n",
              "            (dense): Linear(in_features=3072, out_features=768, bias=True)\n",
              "            (LayerNorm): LayerNorm((768,), eps=1e-12, elementwise_affine=True)\n",
              "            (dropout): Dropout(p=0.15, inplace=False)\n",
              "          )\n",
              "        )\n",
              "        (3): BertLayer(\n",
              "          (attention): BertAttention(\n",
              "            (self): BertSelfAttention(\n",
              "              (query): Linear(in_features=768, out_features=768, bias=True)\n",
              "              (key): Linear(in_features=768, out_features=768, bias=True)\n",
              "              (value): Linear(in_features=768, out_features=768, bias=True)\n",
              "              (dropout): Dropout(p=0.1, inplace=False)\n",
              "            )\n",
              "            (output): BertSelfOutput(\n",
              "              (dense): Linear(in_features=768, out_features=768, bias=True)\n",
              "              (LayerNorm): LayerNorm((768,), eps=1e-12, elementwise_affine=True)\n",
              "              (dropout): Dropout(p=0.15, inplace=False)\n",
              "            )\n",
              "          )\n",
              "          (intermediate): BertIntermediate(\n",
              "            (dense): Linear(in_features=768, out_features=3072, bias=True)\n",
              "          )\n",
              "          (output): BertOutput(\n",
              "            (dense): Linear(in_features=3072, out_features=768, bias=True)\n",
              "            (LayerNorm): LayerNorm((768,), eps=1e-12, elementwise_affine=True)\n",
              "            (dropout): Dropout(p=0.15, inplace=False)\n",
              "          )\n",
              "        )\n",
              "        (4): BertLayer(\n",
              "          (attention): BertAttention(\n",
              "            (self): BertSelfAttention(\n",
              "              (query): Linear(in_features=768, out_features=768, bias=True)\n",
              "              (key): Linear(in_features=768, out_features=768, bias=True)\n",
              "              (value): Linear(in_features=768, out_features=768, bias=True)\n",
              "              (dropout): Dropout(p=0.1, inplace=False)\n",
              "            )\n",
              "            (output): BertSelfOutput(\n",
              "              (dense): Linear(in_features=768, out_features=768, bias=True)\n",
              "              (LayerNorm): LayerNorm((768,), eps=1e-12, elementwise_affine=True)\n",
              "              (dropout): Dropout(p=0.15, inplace=False)\n",
              "            )\n",
              "          )\n",
              "          (intermediate): BertIntermediate(\n",
              "            (dense): Linear(in_features=768, out_features=3072, bias=True)\n",
              "          )\n",
              "          (output): BertOutput(\n",
              "            (dense): Linear(in_features=3072, out_features=768, bias=True)\n",
              "            (LayerNorm): LayerNorm((768,), eps=1e-12, elementwise_affine=True)\n",
              "            (dropout): Dropout(p=0.15, inplace=False)\n",
              "          )\n",
              "        )\n",
              "        (5): BertLayer(\n",
              "          (attention): BertAttention(\n",
              "            (self): BertSelfAttention(\n",
              "              (query): Linear(in_features=768, out_features=768, bias=True)\n",
              "              (key): Linear(in_features=768, out_features=768, bias=True)\n",
              "              (value): Linear(in_features=768, out_features=768, bias=True)\n",
              "              (dropout): Dropout(p=0.1, inplace=False)\n",
              "            )\n",
              "            (output): BertSelfOutput(\n",
              "              (dense): Linear(in_features=768, out_features=768, bias=True)\n",
              "              (LayerNorm): LayerNorm((768,), eps=1e-12, elementwise_affine=True)\n",
              "              (dropout): Dropout(p=0.15, inplace=False)\n",
              "            )\n",
              "          )\n",
              "          (intermediate): BertIntermediate(\n",
              "            (dense): Linear(in_features=768, out_features=3072, bias=True)\n",
              "          )\n",
              "          (output): BertOutput(\n",
              "            (dense): Linear(in_features=3072, out_features=768, bias=True)\n",
              "            (LayerNorm): LayerNorm((768,), eps=1e-12, elementwise_affine=True)\n",
              "            (dropout): Dropout(p=0.15, inplace=False)\n",
              "          )\n",
              "        )\n",
              "        (6): BertLayer(\n",
              "          (attention): BertAttention(\n",
              "            (self): BertSelfAttention(\n",
              "              (query): Linear(in_features=768, out_features=768, bias=True)\n",
              "              (key): Linear(in_features=768, out_features=768, bias=True)\n",
              "              (value): Linear(in_features=768, out_features=768, bias=True)\n",
              "              (dropout): Dropout(p=0.1, inplace=False)\n",
              "            )\n",
              "            (output): BertSelfOutput(\n",
              "              (dense): Linear(in_features=768, out_features=768, bias=True)\n",
              "              (LayerNorm): LayerNorm((768,), eps=1e-12, elementwise_affine=True)\n",
              "              (dropout): Dropout(p=0.15, inplace=False)\n",
              "            )\n",
              "          )\n",
              "          (intermediate): BertIntermediate(\n",
              "            (dense): Linear(in_features=768, out_features=3072, bias=True)\n",
              "          )\n",
              "          (output): BertOutput(\n",
              "            (dense): Linear(in_features=3072, out_features=768, bias=True)\n",
              "            (LayerNorm): LayerNorm((768,), eps=1e-12, elementwise_affine=True)\n",
              "            (dropout): Dropout(p=0.15, inplace=False)\n",
              "          )\n",
              "        )\n",
              "        (7): BertLayer(\n",
              "          (attention): BertAttention(\n",
              "            (self): BertSelfAttention(\n",
              "              (query): Linear(in_features=768, out_features=768, bias=True)\n",
              "              (key): Linear(in_features=768, out_features=768, bias=True)\n",
              "              (value): Linear(in_features=768, out_features=768, bias=True)\n",
              "              (dropout): Dropout(p=0.1, inplace=False)\n",
              "            )\n",
              "            (output): BertSelfOutput(\n",
              "              (dense): Linear(in_features=768, out_features=768, bias=True)\n",
              "              (LayerNorm): LayerNorm((768,), eps=1e-12, elementwise_affine=True)\n",
              "              (dropout): Dropout(p=0.15, inplace=False)\n",
              "            )\n",
              "          )\n",
              "          (intermediate): BertIntermediate(\n",
              "            (dense): Linear(in_features=768, out_features=3072, bias=True)\n",
              "          )\n",
              "          (output): BertOutput(\n",
              "            (dense): Linear(in_features=3072, out_features=768, bias=True)\n",
              "            (LayerNorm): LayerNorm((768,), eps=1e-12, elementwise_affine=True)\n",
              "            (dropout): Dropout(p=0.15, inplace=False)\n",
              "          )\n",
              "        )\n",
              "        (8): BertLayer(\n",
              "          (attention): BertAttention(\n",
              "            (self): BertSelfAttention(\n",
              "              (query): Linear(in_features=768, out_features=768, bias=True)\n",
              "              (key): Linear(in_features=768, out_features=768, bias=True)\n",
              "              (value): Linear(in_features=768, out_features=768, bias=True)\n",
              "              (dropout): Dropout(p=0.1, inplace=False)\n",
              "            )\n",
              "            (output): BertSelfOutput(\n",
              "              (dense): Linear(in_features=768, out_features=768, bias=True)\n",
              "              (LayerNorm): LayerNorm((768,), eps=1e-12, elementwise_affine=True)\n",
              "              (dropout): Dropout(p=0.15, inplace=False)\n",
              "            )\n",
              "          )\n",
              "          (intermediate): BertIntermediate(\n",
              "            (dense): Linear(in_features=768, out_features=3072, bias=True)\n",
              "          )\n",
              "          (output): BertOutput(\n",
              "            (dense): Linear(in_features=3072, out_features=768, bias=True)\n",
              "            (LayerNorm): LayerNorm((768,), eps=1e-12, elementwise_affine=True)\n",
              "            (dropout): Dropout(p=0.15, inplace=False)\n",
              "          )\n",
              "        )\n",
              "        (9): BertLayer(\n",
              "          (attention): BertAttention(\n",
              "            (self): BertSelfAttention(\n",
              "              (query): Linear(in_features=768, out_features=768, bias=True)\n",
              "              (key): Linear(in_features=768, out_features=768, bias=True)\n",
              "              (value): Linear(in_features=768, out_features=768, bias=True)\n",
              "              (dropout): Dropout(p=0.1, inplace=False)\n",
              "            )\n",
              "            (output): BertSelfOutput(\n",
              "              (dense): Linear(in_features=768, out_features=768, bias=True)\n",
              "              (LayerNorm): LayerNorm((768,), eps=1e-12, elementwise_affine=True)\n",
              "              (dropout): Dropout(p=0.15, inplace=False)\n",
              "            )\n",
              "          )\n",
              "          (intermediate): BertIntermediate(\n",
              "            (dense): Linear(in_features=768, out_features=3072, bias=True)\n",
              "          )\n",
              "          (output): BertOutput(\n",
              "            (dense): Linear(in_features=3072, out_features=768, bias=True)\n",
              "            (LayerNorm): LayerNorm((768,), eps=1e-12, elementwise_affine=True)\n",
              "            (dropout): Dropout(p=0.15, inplace=False)\n",
              "          )\n",
              "        )\n",
              "        (10): BertLayer(\n",
              "          (attention): BertAttention(\n",
              "            (self): BertSelfAttention(\n",
              "              (query): Linear(in_features=768, out_features=768, bias=True)\n",
              "              (key): Linear(in_features=768, out_features=768, bias=True)\n",
              "              (value): Linear(in_features=768, out_features=768, bias=True)\n",
              "              (dropout): Dropout(p=0.1, inplace=False)\n",
              "            )\n",
              "            (output): BertSelfOutput(\n",
              "              (dense): Linear(in_features=768, out_features=768, bias=True)\n",
              "              (LayerNorm): LayerNorm((768,), eps=1e-12, elementwise_affine=True)\n",
              "              (dropout): Dropout(p=0.15, inplace=False)\n",
              "            )\n",
              "          )\n",
              "          (intermediate): BertIntermediate(\n",
              "            (dense): Linear(in_features=768, out_features=3072, bias=True)\n",
              "          )\n",
              "          (output): BertOutput(\n",
              "            (dense): Linear(in_features=3072, out_features=768, bias=True)\n",
              "            (LayerNorm): LayerNorm((768,), eps=1e-12, elementwise_affine=True)\n",
              "            (dropout): Dropout(p=0.15, inplace=False)\n",
              "          )\n",
              "        )\n",
              "        (11): BertLayer(\n",
              "          (attention): BertAttention(\n",
              "            (self): BertSelfAttention(\n",
              "              (query): Linear(in_features=768, out_features=768, bias=True)\n",
              "              (key): Linear(in_features=768, out_features=768, bias=True)\n",
              "              (value): Linear(in_features=768, out_features=768, bias=True)\n",
              "              (dropout): Dropout(p=0.1, inplace=False)\n",
              "            )\n",
              "            (output): BertSelfOutput(\n",
              "              (dense): Linear(in_features=768, out_features=768, bias=True)\n",
              "              (LayerNorm): LayerNorm((768,), eps=1e-12, elementwise_affine=True)\n",
              "              (dropout): Dropout(p=0.15, inplace=False)\n",
              "            )\n",
              "          )\n",
              "          (intermediate): BertIntermediate(\n",
              "            (dense): Linear(in_features=768, out_features=3072, bias=True)\n",
              "          )\n",
              "          (output): BertOutput(\n",
              "            (dense): Linear(in_features=3072, out_features=768, bias=True)\n",
              "            (LayerNorm): LayerNorm((768,), eps=1e-12, elementwise_affine=True)\n",
              "            (dropout): Dropout(p=0.15, inplace=False)\n",
              "          )\n",
              "        )\n",
              "      )\n",
              "    )\n",
              "    (pooler): BertPooler(\n",
              "      (dense): Linear(in_features=768, out_features=768, bias=True)\n",
              "      (activation): Tanh()\n",
              "    )\n",
              "  )\n",
              "  (dropout): Dropout(p=0.2, inplace=False)\n",
              "  (classifier): Linear(in_features=768, out_features=5, bias=True)\n",
              ")"
            ]
          },
          "metadata": {
            "tags": []
          },
          "execution_count": 29
        }
      ]
    },
    {
      "cell_type": "code",
      "metadata": {
        "id": "k8tsAmB6fLtT"
      },
      "source": [
        "def save_metrics(save_path, train_loss_list, valid_loss_list, train_acc_list, valid_acc_list, global_steps_list):  #记录loss和accuracy在训练与验证过程中的变化情况，以便后续评价模型\n",
        "\n",
        "    if save_path == None:\n",
        "        return\n",
        "    \n",
        "    state_dict = {'train_loss_list': train_loss_list,\n",
        "            'valid_loss_list': valid_loss_list,\n",
        "            'train_acc_list': train_acc_list,\n",
        "            'valid_acc_list': valid_acc_list,\n",
        "            'global_steps_list': global_steps_list}\n",
        "    \n",
        "    torch.save(state_dict, save_path)\n",
        "    print('Loss and accuracy saved')\n",
        "\n",
        "\n",
        "def load_metrics(load_path):    #读取训练过程\n",
        "\n",
        "    if load_path==None:\n",
        "        return\n",
        "    \n",
        "    state_dict = torch.load(load_path, map_location=device)\n",
        "    print('Loss and accuracy loaded')\n",
        "    \n",
        "    return state_dict['train_loss_list'], state_dict['valid_loss_list'], state_dict['train_acc_list'],  state_dict['valid_acc_list'], state_dict['global_steps_list']"
      ],
      "execution_count": null,
      "outputs": []
    },
    {
      "cell_type": "code",
      "metadata": {
        "id": "MlxLEftFryRk"
      },
      "source": [
        "from transformers import AdamW #AdamW优化器\n",
        "param_optimizer = list(model.named_parameters())\n",
        " \n",
        "no_decay = ['bias', 'gamma', 'beta']\n",
        "optimizer_grouped_parameters = [\n",
        "     {'params': [p for n, p in param_optimizer],\n",
        "     'weight_decay_rate': 0.01}                                \n",
        "]\n",
        "'''{'params': [p for n, p in param_optimizer if not any(nd in n for nd in no_decay)],\n",
        "     'weight_decay_rate': 0.01},\n",
        "    {'params': [p for n, p in param_optimizer if any(nd in n for nd in no_decay)],\n",
        "     'weight_decay_rate': 0.0}\n",
        "''' \n",
        "optimizer = AdamW(optimizer_grouped_parameters,lr=2e-5,weight_decay=0.01) #学习率为0.00002"
      ],
      "execution_count": null,
      "outputs": []
    },
    {
      "cell_type": "code",
      "metadata": {
        "colab": {
          "base_uri": "https://localhost:8080/"
        },
        "id": "K0OC9Hp8-Fyr",
        "outputId": "0c89949c-4b7a-4c5f-8441-1d74d480edb9"
      },
      "source": [
        "def flat_accuracy(preds, labels):  #计算准确率\n",
        "    pred_flat = np.argmax(preds, axis=1).flatten()\n",
        "    labels_flat = labels.flatten()\n",
        "    return np.sum(pred_flat == labels_flat) / len(labels_flat)\n",
        " \n",
        "train_loss_set = []\n",
        "num_epochs = 10 #训练10轮\n",
        "eval_every = len(train_loader) // 2   \n",
        "running_loss = 0.0\n",
        "running_acc = 0.0\n",
        "valid_running_loss = 0.0\n",
        "valid_running_acc = 0.0\n",
        "global_step = 0\n",
        "train_loss_list = []\n",
        "valid_loss_list = []\n",
        "train_acc_list = []\n",
        "valid_acc_list = []\n",
        "global_steps_list = []\n",
        " \n",
        "for i in range(num_epochs): # 模型训练\n",
        "    print(\"Epoch:\",i+1)\n",
        "    model.train()\n",
        "    tr_loss, tr_accuracy = 0, 0\n",
        "    nb_tr_steps, nb_tr_examples = 0, 0\n",
        "    for step, batch in enumerate(train_loader):\n",
        "        batch = tuple(t.to(device) for t in batch) #使用GPU\n",
        "        b_input_ids, b_input_mask, b_labels = batch\n",
        "        #print(b_input_ids.size(),b_labels.size())\n",
        "        optimizer.zero_grad()\n",
        "        loss, logits = model(b_input_ids ,attention_mask=b_input_mask, labels=b_labels)[:2]\n",
        " \n",
        "        logits = logits.detach().cpu().numpy()\n",
        "        label_ids = b_labels.to('cpu').numpy()\n",
        "        accuracy = flat_accuracy(logits, label_ids)\n",
        " \n",
        "        loss.backward()\n",
        "        optimizer.step()\n",
        "        \n",
        "        running_loss += loss.item()\n",
        "        running_acc += accuracy\n",
        "        global_step += 1\n",
        "\n",
        "        # 用验证集验证\n",
        "        if global_step % eval_every == 0:\n",
        "          model.eval()\n",
        "          with torch.no_grad():\n",
        "            # validation loop\n",
        "            for st, batch in enumerate(val_loader):\n",
        "                batch = tuple(t.to(device) for t in batch)\n",
        "                b_input_ids, b_input_mask, b_labels = batch\n",
        "                loss, logits = model(b_input_ids ,attention_mask=b_input_mask, labels=b_labels)[:2]\n",
        " \n",
        "                logits = logits.detach().cpu().numpy()\n",
        "                label_ids = b_labels.to('cpu').numpy()\n",
        "                accuracy = flat_accuracy(logits, label_ids)\n",
        " \n",
        "                valid_running_loss += loss.item()\n",
        "                valid_running_acc += accuracy\n",
        " \n",
        "          # 评估\n",
        "          average_train_loss = running_loss / eval_every\n",
        "          average_train_acc = running_acc / eval_every\n",
        "          average_valid_loss = valid_running_loss / len(val_loader)\n",
        "          average_valid_acc = valid_running_acc / len(val_loader)\n",
        "          train_loss_list.append(average_train_loss)\n",
        "          valid_loss_list.append(average_valid_loss)\n",
        "          train_acc_list.append(average_train_acc)\n",
        "          valid_acc_list.append(average_valid_acc)\n",
        "          global_steps_list.append(global_step)\n",
        " \n",
        "          # 重置running_loss和running_acc\n",
        "          running_loss = 0.0     \n",
        "          running_acc = 0.0           \n",
        "          valid_running_loss = 0.0\n",
        "          valid_running_acc = 0.0\n",
        "          model.train()\n",
        " \n",
        "          # 输出训练进度\n",
        "          print('Epoch [{}/{}], Step [{}/{}], Train Loss: {:.4f}, Train Acc: {:.4f}, Valid Loss: {:.4f}, Valid Acc: {:.4f}'\n",
        "             .format(i+1, num_epochs, global_step, num_epochs*len(train_loader), average_train_loss, average_train_acc, average_valid_loss,average_valid_acc))\n",
        "          \n",
        "          \n",
        "save_metrics('/bert_metrics.pt', train_loss_list, valid_loss_list, train_acc_list, valid_acc_list, global_steps_list) #保存训练过程\n",
        "print('Finished Training!')"
      ],
      "execution_count": null,
      "outputs": [
        {
          "output_type": "stream",
          "text": [
            "Epoch: 1\n",
            "Epoch [1/10], Step [469/9380], Train Loss: 0.7602, Train Acc: 0.6883, Valid Loss: 0.4935, Valid Acc: 0.8275\n",
            "Epoch [1/10], Step [938/9380], Train Loss: 0.4820, Train Acc: 0.8365, Valid Loss: 0.4233, Valid Acc: 0.8586\n",
            "Epoch: 2\n",
            "Epoch [2/10], Step [1407/9380], Train Loss: 0.4116, Train Acc: 0.8601, Valid Loss: 0.3937, Valid Acc: 0.8685\n",
            "Epoch [2/10], Step [1876/9380], Train Loss: 0.3821, Train Acc: 0.8734, Valid Loss: 0.3908, Valid Acc: 0.8686\n",
            "Epoch: 3\n",
            "Epoch [3/10], Step [2345/9380], Train Loss: 0.3407, Train Acc: 0.8864, Valid Loss: 0.3458, Valid Acc: 0.8829\n",
            "Epoch [3/10], Step [2814/9380], Train Loss: 0.3543, Train Acc: 0.8824, Valid Loss: 0.3576, Valid Acc: 0.8789\n",
            "Epoch: 4\n",
            "Epoch [4/10], Step [3283/9380], Train Loss: 0.3121, Train Acc: 0.8966, Valid Loss: 0.3415, Valid Acc: 0.8845\n",
            "Epoch [4/10], Step [3752/9380], Train Loss: 0.3098, Train Acc: 0.8965, Valid Loss: 0.3489, Valid Acc: 0.8855\n",
            "Epoch: 5\n",
            "Epoch [5/10], Step [4221/9380], Train Loss: 0.2870, Train Acc: 0.9054, Valid Loss: 0.3551, Valid Acc: 0.8825\n",
            "Epoch [5/10], Step [4690/9380], Train Loss: 0.2891, Train Acc: 0.9027, Valid Loss: 0.3583, Valid Acc: 0.8814\n",
            "Epoch: 6\n",
            "Epoch [6/10], Step [5159/9380], Train Loss: 0.2683, Train Acc: 0.9121, Valid Loss: 0.3341, Valid Acc: 0.8867\n",
            "Epoch [6/10], Step [5628/9380], Train Loss: 0.2552, Train Acc: 0.9155, Valid Loss: 0.3925, Valid Acc: 0.8742\n",
            "Epoch: 7\n",
            "Epoch [7/10], Step [6097/9380], Train Loss: 0.2432, Train Acc: 0.9203, Valid Loss: 0.3793, Valid Acc: 0.8803\n",
            "Epoch [7/10], Step [6566/9380], Train Loss: 0.2484, Train Acc: 0.9196, Valid Loss: 0.3578, Valid Acc: 0.8835\n",
            "Epoch: 8\n",
            "Epoch [8/10], Step [7035/9380], Train Loss: 0.2209, Train Acc: 0.9284, Valid Loss: 0.3781, Valid Acc: 0.8781\n",
            "Epoch [8/10], Step [7504/9380], Train Loss: 0.2361, Train Acc: 0.9222, Valid Loss: 0.3432, Valid Acc: 0.8863\n",
            "Epoch: 9\n",
            "Epoch [9/10], Step [7973/9380], Train Loss: 0.2039, Train Acc: 0.9351, Valid Loss: 0.3893, Valid Acc: 0.8830\n",
            "Epoch [9/10], Step [8442/9380], Train Loss: 0.2072, Train Acc: 0.9335, Valid Loss: 0.3831, Valid Acc: 0.8874\n",
            "Epoch: 10\n",
            "Epoch [10/10], Step [8911/9380], Train Loss: 0.1858, Train Acc: 0.9413, Valid Loss: 0.4186, Valid Acc: 0.8778\n",
            "Epoch [10/10], Step [9380/9380], Train Loss: 0.1943, Train Acc: 0.9370, Valid Loss: 0.3921, Valid Acc: 0.8836\n",
            "Loss and accuracy saved\n",
            "Finished Training!\n"
          ],
          "name": "stdout"
        }
      ]
    },
    {
      "cell_type": "code",
      "metadata": {
        "id": "qDxDDpd9HMjt"
      },
      "source": [
        "torch.save(model.state_dict(), '/content/drive/My Drive/bert_model.pth')  #保存模型的参数"
      ],
      "execution_count": null,
      "outputs": []
    },
    {
      "cell_type": "code",
      "metadata": {
        "id": "9j_kVrCNkbaj",
        "colab": {
          "base_uri": "https://localhost:8080/",
          "height": 297
        },
        "outputId": "a2c27ca8-707c-4926-c9e7-de0016f5f32e"
      },
      "source": [
        "import matplotlib.pyplot as plt\n",
        "from sklearn.metrics import accuracy_score, classification_report, confusion_matrix\n",
        "import seaborn as sns\n",
        " \n",
        "# 可视化训练过程\n",
        "\n",
        "train_loss_list, valid_loss_list, train_acc_list, valid_acc_list, global_steps_list = load_metrics('/bert_metrics.pt')\n",
        "plt.plot(global_steps_list, train_loss_list, label='Train')\n",
        "plt.plot(global_steps_list, valid_loss_list, label='Valid')\n",
        "plt.xlabel('Global Steps')\n",
        "plt.ylabel('Loss')\n",
        "plt.legend()\n",
        "plt.show()"
      ],
      "execution_count": null,
      "outputs": [
        {
          "output_type": "stream",
          "text": [
            "Loss and accuracy loaded\n"
          ],
          "name": "stdout"
        },
        {
          "output_type": "display_data",
          "data": {
            "image/png": "[encoded data removed]",
            "text/plain": [
              "<Figure size 432x288 with 1 Axes>"
            ]
          },
          "metadata": {
            "tags": [],
            "needs_background": "light"
          }
        }
      ]
    },
    {
      "cell_type": "code",
      "metadata": {
        "id": "SP7I3kRKlMmV",
        "colab": {
          "base_uri": "https://localhost:8080/",
          "height": 280
        },
        "outputId": "28411c9b-bfc3-4f06-c90e-8f4ab5ea2e98"
      },
      "source": [
        "plt.plot(global_steps_list, train_acc_list, label='Train')\n",
        "plt.plot(global_steps_list, valid_acc_list, label='Valid')\n",
        "plt.xlabel('Global Steps')\n",
        "plt.ylabel('Accuracy')\n",
        "plt.legend()\n",
        "plt.show() "
      ],
      "execution_count": null,
      "outputs": [
        {
          "output_type": "display_data",
          "data": {
            "image/png": "[encoded data removed]",
            "text/plain": [
              "<Figure size 432x288 with 1 Axes>"
            ]
          },
          "metadata": {
            "tags": [],
            "needs_background": "light"
          }
        }
      ]
    },
    {
      "cell_type": "code",
      "metadata": {
        "id": "XKX6IVRE4i_k"
      },
      "source": [
        "def evaluate(model, test_loader, version='title', threshold=0.5): # 用测试集评价模型效果\n",
        " \n",
        "    y_pred = []\n",
        "    y_true = []\n",
        " \n",
        "    model.eval()\n",
        "    with torch.no_grad():\n",
        "      for st, batch in enumerate(test_loader):\n",
        "        batch = tuple(t.to(device) for t in batch)\n",
        "        b_input_ids, b_input_mask, b_labels = batch\n",
        "        output = model(b_input_ids ,attention_mask=b_input_mask, labels=b_labels)[1]\n",
        "        #output = (output > threshold).int()\n",
        "        output=np.asarray(output.cpu())\n",
        "        output=np.argmax(output,1)\n",
        "        #print(output)\n",
        "        y_pred.extend(output.tolist())\n",
        "        y_true.extend(b_labels.tolist())\n",
        "    print('Classification Report:')\n",
        "    print(classification_report(y_true, y_pred, target_names=['词','诗','文言文','新闻','期刊'], digits=4))\n",
        "    %matplotlib inline\n",
        "    cm = confusion_matrix(y_true, y_pred, labels=[0,1,2,3,4])\n",
        "    ax= plt.subplot()\n",
        "    sns.heatmap(cm, annot=True, ax = ax, cmap='Blues', fmt=\"d\")\n",
        " \n",
        "    ax.set_title('Confusion Matrix')\n",
        "    ax.set_xlabel('Predicted Labels')\n",
        "    ax.set_ylabel('True Labels')\n",
        " \n",
        "    ax.xaxis.set_ticklabels(['ci','poem','wyw','news','journal'])\n",
        "    ax.yaxis.set_ticklabels(['ci','poem','wyw','news','journal'])"
      ],
      "execution_count": null,
      "outputs": []
    },
    {
      "cell_type": "code",
      "metadata": {
        "id": "5LRXCaYu63_V",
        "colab": {
          "base_uri": "https://localhost:8080/",
          "height": 529
        },
        "outputId": "ee3c4226-57f5-43e0-98d8-6efcabf6cc93"
      },
      "source": [
        "evaluate(model, test_loader)"
      ],
      "execution_count": null,
      "outputs": [
        {
          "output_type": "stream",
          "text": [
            "Classification Report:\n",
            "              precision    recall  f1-score   support\n",
            "\n",
            "           词     0.9212    0.8375    0.8773      4104\n",
            "           诗     0.8722    0.9533    0.9109      3980\n",
            "         文言文     0.8319    0.8762    0.8535      3982\n",
            "          新闻     0.8960    0.8978    0.8969      3952\n",
            "          期刊     0.9275    0.8769    0.9015      3982\n",
            "\n",
            "    accuracy                         0.8880     20000\n",
            "   macro avg     0.8897    0.8883    0.8880     20000\n",
            "weighted avg     0.8899    0.8880    0.8879     20000\n",
            "\n"
          ],
          "name": "stdout"
        },
        {
          "output_type": "display_data",
          "data": {
            "image/png": "[encoded data removed]",
            "text/plain": [
              "<Figure size 432x288 with 2 Axes>"
            ]
          },
          "metadata": {
            "tags": [],
            "needs_background": "light"
          }
        }
      ]
    },
    {
      "cell_type": "code",
      "metadata": {
        "id": "euDHqEX3CFmI"
      },
      "source": [
        "def category_to_label(num): #由编号转化为标签\n",
        "  if num == 0:\n",
        "    return '词'\n",
        "  elif num == 1:\n",
        "    return '诗'\n",
        "  elif num == 2:\n",
        "    return '文言文'\n",
        "  elif num == 3:\n",
        "    return '新闻'\n",
        "  elif num == 4:\n",
        "    return '期刊'\n",
        "  else:\n",
        "    print(\"类型格式存在异常\")"
      ],
      "execution_count": null,
      "outputs": []
    },
    {
      "cell_type": "code",
      "metadata": {
        "id": "qbcFRo_6GObz",
        "colab": {
          "base_uri": "https://localhost:8080/"
        },
        "outputId": "2a93b339-230d-4782-f29a-4c65eab66e34"
      },
      "source": [
        "model = BertForMultiClassSequenceClassification(model_config).to('cuda')\n",
        "model.load_state_dict(torch.load('/content/drive/My Drive/bert_model.pth')) #加载模型\n",
        "\n",
        "\n",
        "def get_category(model):  #预测新文本\n",
        "  sentence = input('请输入句子：')\n",
        "\n",
        "  tokenizer=BertTokenizer.from_pretrained(\"bert-base-chinese\")\n",
        "  ids = [tokenizer.encode(sentence)]\n",
        "  \n",
        "  import keras\n",
        "  ids = keras.preprocessing.sequence.pad_sequences(ids, maxlen=128, dtype=\"long\", truncating=\"post\", padding=\"post\") #对齐句子\n",
        "\n",
        "  mask = get_masks(ids)\n",
        "  mask = torch.LongTensor(mask).to('cuda')\n",
        "  \n",
        "  ids = torch.LongTensor(ids).to('cuda')\n",
        "  print(ids)\n",
        "\n",
        "  model.eval()\n",
        "  with torch.no_grad():\n",
        "    pred = model(ids, attention_mask=mask).logits\n",
        "    print(pred)\n",
        "    pred = np.asarray(pred.cpu())\n",
        "    pred = np.argmax(pred,1)[0]\n",
        "    #print(pred)    \n",
        "    print('属于',category_to_label(pred),'的文本')\n",
        "\n",
        "get_category(model)"
      ],
      "execution_count": null,
      "outputs": [
        {
          "output_type": "stream",
          "text": [
            "请输入句子：《1844年经济学哲学手稿》用劳动实践解释了私有财产的产生与消亡，解释了人的异化和异化的扬弃，解释了自然界作为实践结果的演化与发展。\n",
            "tensor([[  101,   517, 10116,  8159,  2399,  5307,  3845,  2110,  1528,  2110,\n",
            "          2797,  4943,   518,  4500,  1227,  1220,  2141,  6664,  6237,  7025,\n",
            "           749,  4900,  3300,  6568,   772,  4638,   772,  4495,   680,  3867,\n",
            "           767,  8024,  6237,  7025,   749,   782,  4638,  2460,  1265,  1469,\n",
            "          2460,  1265,  4638,  2813,  2461,  8024,  6237,  7025,   749,  5632,\n",
            "          4197,  4518,   868,   711,  2141,  6664,  5310,  3362,  4638,  4028,\n",
            "          1265,   680,  1355,  2245,   511,   102,     0,     0,     0,     0,\n",
            "             0,     0,     0,     0,     0,     0,     0,     0,     0,     0,\n",
            "             0,     0,     0,     0,     0,     0,     0,     0,     0,     0,\n",
            "             0,     0,     0,     0,     0,     0,     0,     0,     0,     0,\n",
            "             0,     0,     0,     0,     0,     0,     0,     0,     0,     0,\n",
            "             0,     0,     0,     0,     0,     0,     0,     0,     0,     0,\n",
            "             0,     0,     0,     0,     0,     0,     0,     0]],\n",
            "       device='cuda:0')\n",
            "tensor([[-3.0842, -3.1994, -1.9336,  2.0504,  6.2996]], device='cuda:0')\n",
            "属于 期刊 的文本\n"
          ],
          "name": "stdout"
        }
      ]
    }
  ]
}